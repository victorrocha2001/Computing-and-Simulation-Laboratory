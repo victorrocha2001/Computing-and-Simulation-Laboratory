{
  "cells": [
    {
      "cell_type": "markdown",
      "metadata": {
        "id": "__tvNsi6jTpN"
      },
      "source": [
        "EP4 - MAP2212 - 2024\n",
        "\n",
        "Victor Rocha Cardoso Cruz, NUSP: 11223757\n",
        "\n",
        "Larissa Aparecida Marques Pimenta Santos, NUSP: 12558620"
      ]
    },
    {
      "cell_type": "markdown",
      "metadata": {
        "id": "spTzhqQJjdNI"
      },
      "source": [
        "ENUNCIADO:\n",
        "\n",
        "Considere o modelo estatístico multinomial m-dimensional com obsevações x\n",
        ", informação a priori y e parâmetro θ.\n",
        "x,y∈Nm, θ ∈ Θ = Sm = {θ∈Rm+ : θT1=1}.\n",
        "Esse modelo estatístico é composto por:\n",
        "  - Potencial a posteriori f(θ∣x,y)=∏i=1mθxi+yi−1i;\n",
        "  - Conjunto de corte T(v)={θ∈Θ : f(θ∣x,y)≤v}, v≥0;\n",
        "  - Função verdade W(v)=∫T(v)f(θ∣x,y)dθ.\n",
        "\n",
        "W(v) é a massa de probabilidade a posteriori dentro de T(v), i.e., a massa de probabilidade onde o potencial a posteriori, f(θ∣x,y), não excede a cota v.\n",
        "\n",
        "Obs.: Dirichlet(θ∣a)=1B(a)∏i=1mθai−1i\n",
        ", onde m≥2\n",
        ", θ∈Sm\n",
        ", a∈Rm+\n",
        " e B(a)=∏mi=1Γ(ai)Γ(∑mi=1ai)\n",
        " é a função Beta multivariável.\n",
        "\n",
        "  - Defina k pontos de corte, 0=v0<v1<⋯<vk=supf(θ).\n",
        "  - Use um gerador de números aleatórios Gamma para gerar n pontos em Θ, θ1,…,θn, distribuídos de acordo com a função de densidade a posteriori.\n",
        "  - Use a fração de pontos simulados θt dentro de cada bin, vj−1<f(θt)<vj, como uma aproximação de W(vj)−W(vj−1).\n",
        "  - Ajuste dinamicamente as bordas de cada bin, vj\n",
        ", para obter bins com pesos aproxidamente iguais, i.e., W(vj)−W(vj−1)≈1/k.\n",
        "  - Obtenha como saída uma função U(v) que dê uma boa aproximação de W(v).\n",
        "\n",
        "Seu programa será avaliado pela acurácia de U(v)\n",
        " (erro  <0.05%), por sua compreensibilidade e pelo seu tempo de execução."
      ]
    },
    {
      "cell_type": "code",
      "execution_count": null,
      "metadata": {
        "colab": {
          "background_save": true,
          "base_uri": "https://localhost:8080/"
        },
        "id": "wGrVatQyo_vb",
        "outputId": "4d0e94cc-a1a4-4923-aeed-e32a41f63fef"
      },
      "outputs": [
        {
          "name": "stdout",
          "output_type": "stream",
          "text": [
            "\n",
            "\n",
            "\n",
            "\n",
            "O vetor X é [1, 2, 3] e o vetor Y é [4, 5, 6]\n",
            "O maior valor é: 17.7837 \n",
            "\n",
            "Caso queira encerrar o programa insira um número menor que 0\n"
          ]
        }
      ],
      "source": [
        "import numpy as np\n",
        "import scipy\n",
        "import time\n",
        "\n",
        "# Variáveis globais utilizadas no programa\n",
        "escolha_usuario = 0  # Variável para armazenar a escolha do usuário\n",
        "vetor_x = []  # Vetor X\n",
        "vetor_y = []  # Vetor Y\n",
        "alpha = []  # Vetor alpha\n",
        "dirichi = 0  # Variável para armazenar o resultado do potencial\n",
        "contador = 0  # Contador utilizado em loops\n",
        "auxiliar = 0  # Variável auxiliar\n",
        "valores = []  # Lista para armazenar os valores do potencial\n",
        "fronteira = []  # Lista para armazenar os valores fronteira dos grupos\n",
        "quantidade = []  # Lista para armazenar os grupos de valores\n",
        "beta = 0  # Constante de normalização\n",
        "aproximacao = 0  # Valor de aproximação\n",
        "V = 0  # Valor inserido pelo usuário\n",
        "\n",
        "# Função para calcular o potencial\n",
        "def potencial(dirichlet, alfa):\n",
        "    return(dirichlet[0]**(alfa[0]-1))*(dirichlet[1]**(alfa[1]-1))*(dirichlet[2]**(alfa[2]-1))\n",
        "\n",
        "# Vetores X e Y padrão\n",
        "vetor_x.append(1)\n",
        "vetor_x.append(2)\n",
        "vetor_x.append(3)\n",
        "vetor_y.append(4)\n",
        "vetor_y.append(5)\n",
        "vetor_y.append(6)\n",
        "\n",
        "# Definindo alpha\n",
        "alpha.append(vetor_y[0] + vetor_x[0])\n",
        "alpha.append(vetor_y[1] + vetor_x[1])\n",
        "alpha.append(vetor_y[2] + vetor_x[2])\n",
        "\n",
        "# Calculando a constante de normalização beta\n",
        "beta = (((scipy.special.gamma(alpha[0]))*(scipy.special.gamma(alpha[1]))*(scipy.special.gamma(alpha[2])))/(scipy.special.gamma(alpha[0]+alpha[1]+alpha[2])))\n",
        "\n",
        "# Gerando os thetas Dirichlet\n",
        "dirichlet = np.random.dirichlet(alpha, size=15375000)\n",
        "\n",
        "# Calculando o potencial para cada vetor Dirichlet gerado e armazenando em uma lista\n",
        "for contador in range(15375000):\n",
        "    dirichi = (potencial(dirichlet[contador], alpha))\n",
        "    valores.append(dirichi)\n",
        "contador = 0\n",
        "\n",
        "# Ordenando o vetor de valores do potencial\n",
        "valores = sorted(valores)\n",
        "\n",
        "# Dividindo os valores em grupos e armazenando em \"quantidade\" e o valor limite de cada grupo em \"fronteira\"\n",
        "for contador in range(6150, 15375001, 6150):\n",
        "    quantidade.append(valores[contador-6150:contador])\n",
        "    fronteira.append(quantidade[auxiliar][6150-1])\n",
        "    auxiliar += 1\n",
        "\n",
        "# Solicitação ao usuário de um valor V\n",
        "while True:\n",
        "    print(\"Caso queira encerrar o programa insira um número menor que 0\")\n",
        "    V = float(input(\"Insira um valor de V (maior igual a zero): \"))\n",
        "    if V < 0:\n",
        "        break\n",
        "    else:\n",
        "        k = np.searchsorted(fronteira, V*beta)\n",
        "        # Quantidade de números até o corte\n",
        "        aproximacao = 6150*k\n",
        "        # Checagem do número interior ao corte\n",
        "        if k != 2500:\n",
        "            aproximacao += np.searchsorted(quantidade[k], V*beta)\n",
        "        # Mostrando o valor de U\n",
        "        resultado = aproximacao/15375000\n",
        "        print(\"U(\", V, \") = \", end=\"\")\n",
        "        print(\"%.4f\\n\" % resultado)"
      ]
    }
  ],
  "metadata": {
    "colab": {
      "provenance": []
    },
    "kernelspec": {
      "display_name": "Python 3",
      "name": "python3"
    },
    "language_info": {
      "name": "python"
    }
  },
  "nbformat": 4,
  "nbformat_minor": 0
}